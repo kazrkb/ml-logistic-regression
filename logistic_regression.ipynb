{
 "cells": [
  {
   "cell_type": "code",
   "execution_count": null,
   "id": "68d90125",
   "metadata": {},
   "outputs": [],
   "source": [
    "#logistic regression\n"
   ]
  }
 ],
 "metadata": {
  "language_info": {
   "name": "python"
  }
 },
 "nbformat": 4,
 "nbformat_minor": 5
}
